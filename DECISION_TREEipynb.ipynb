{
  "nbformat": 4,
  "nbformat_minor": 0,
  "metadata": {
    "colab": {
      "provenance": []
    },
    "kernelspec": {
      "name": "python3",
      "display_name": "Python 3"
    },
    "language_info": {
      "name": "python"
    }
  },
  "cells": [
    {
      "cell_type": "markdown",
      "source": [
        "1. What is a Decision Tree, and how does it work?\n",
        "   \n",
        "\n",
        "A Decision Tree is a supervised machine learning algorithm used for both classification and regression tasks. It models decisions and their possible consequences in a tree-like structure, where each internal node represents a feature (or attribute), each branch represents a decision rule, and each leaf node represents an outcome (or class label).    \n",
        "\n",
        "The working of a Decision Tree involves the following steps:    \n",
        "\n",
        "Splitting: The algorithm selects a feature and a threshold to split the data into subsets. The goal is to create subsets that are as homogeneous as possible concerning the target variable.    \n",
        "\n",
        "Impurity Measurement: The quality of a split is evaluated using impurity measures such as Gini impurity or entropy. The algorithm aims to minimize impurity in the resulting subsets.    \n",
        "\n",
        "Recursive Partitioning: The process of splitting is repeated recursively for each subset until a stopping criterion is met, such as reaching a maximum depth, having a minimum number of samples in a node, or achieving a certain level of purity.    \n",
        "\n",
        "Prediction: For classification tasks, the final prediction is made by assigning the majority class of the samples in the leaf node. For regression tasks, the prediction is typically the mean of the target values in the leaf node.    \n",
        "\n",
        "2. What are impurity measures in Decision Trees?\n",
        "   \n",
        "\n",
        "Impurity measures are metrics used to evaluate the quality of a split in a Decision Tree. They quantify how mixed the classes are in a node, guiding the algorithm in selecting the best feature and threshold for splitting the data. Common impurity measures include:    \n",
        "\n",
        "Gini Impurity: Measures the probability of misclassifying a randomly chosen element from the dataset if it was randomly labeled according to the distribution of labels in the subset.    \n",
        "\n",
        "Entropy: A measure from information theory that quantifies the uncertainty or disorder in a dataset. It is used to determine how well a feature separates the classes.    \n",
        "\n",
        "Mean Squared Error (MSE): Used in regression trees, it measures the average squared difference between the predicted and actual values.    \n",
        "\n",
        "These measures help the algorithm decide which feature to split on at each node, aiming to create the most informative splits.    \n",
        "\n",
        "3. What is the mathematical formula for Gini Impurity?\n",
        "   \n",
        "\n",
        "The Gini impurity for a dataset can be calculated using the following formula:    \n",
        "\n",
        "$$ Gini(D) = 1 - \\sum_{i=1}^{C} p_i^2 $$    \n",
        "\n",
        "where:\n",
        "\n",
        "$ D $ is the dataset.\n",
        "$ C $ is the number of classes.\n",
        "$ p_i $ is the proportion of instances belonging to class $ i $ in the dataset.    \n",
        "The Gini impurity ranges from 0 (perfectly pure, all instances belong to a single class) to 0.5 (maximum impurity for binary classification).    \n",
        "\n",
        "4. What is the mathematical formula for Entropy?\n",
        "   \n",
        "\n",
        "The entropy of a dataset can be calculated using the following formula:    \n",
        "\n",
        "$$ Entropy(D) = -\\sum_{i=1}^{C} p_i \\log_2(p_i) $$    \n",
        "\n",
        "where:\n",
        "\n",
        "$ D $ is the dataset.\n",
        "$ C $ is the number of classes.\n",
        "$ p_i $ is the proportion of instances belonging to class $ i $ in the dataset.    \n",
        "Entropy ranges from 0 (perfectly pure) to \\$ \\log_2(C) \\$ (maximum disorder), where \\$ C \\$ is the number of classes.    \n",
        "\n",
        "5. What is Information Gain, and how is it used in Decision Trees?\n",
        "   \n",
        "\n",
        "Information Gain (IG) measures the reduction in entropy or impurity after a dataset is split on a feature. It quantifies how much information a feature provides about the class label. The formula for Information Gain is:    \n",
        "\n",
        "$$ IG(D, A) = Entropy(D) - \\sum_{v \\in Values(A)} \\frac{|D_v|}{|D|} Entropy(D_v) $$    \n",
        "\n",
        "where:\n",
        "\n",
        "$ D $ is the original dataset.\n",
        "$ A $ is the feature being evaluated.\n",
        "$ Values(A) $ are the possible values of feature $ A $.\n",
        "$ D_v $ is the subset of $ D $ for which feature $ A $ has value $ v $.    \n",
        "In Decision Trees, the algorithm selects the feature with the highest Information Gain for splitting the data at each node, aiming to create the most informative splits.    \n",
        "\n",
        "6. What is the difference between Gini Impurity and Entropy?\n",
        "   \n",
        "\n",
        "Gini Impurity and Entropy are both measures of impurity used in Decision Trees, but they have some differences:    \n",
        "\n",
        "Calculation:\n",
        "\n",
        "Gini Impurity is calculated as $ 1 - \\sum_{i=1}^{C} p_i^2 $, focusing on the probability of misclassification.\n",
        "Entropy is calculated as $ -\\sum_{i=1}^{C} p_i \\log_2(p_i) $, measuring the uncertainty in the dataset.    \n",
        "Range:\n",
        "\n",
        "Gini Impurity ranges from 0 to 0.5 for binary classification.\n",
        "Entropy ranges from 0 to $ \\log_2(C) $, where $ C $ is the number of classes.    \n",
        "Sensitivity:\n",
        "\n",
        "Gini Impurity tends to be more sensitive to class imbalance, while Entropy can be more sensitive to the distribution of classes.    \n",
        "Performance:\n",
        "\n",
        "In practice, both measures often lead to similar results, but Gini Impurity is generally faster to compute, making it a popular choice in many implementations.    \n",
        "7. What is the mathematical explanation behind Decision Trees?\n",
        "   \n",
        "\n",
        "The mathematical foundation of Decision Trees lies in the concepts of entropy, information gain, and impurity measures. The algorithm operates by recursively partitioning the dataset based on the feature that provides the highest information gain or the lowest impurity.    \n",
        "\n",
        "Node Splitting: At each node, the algorithm evaluates all possible splits for each feature and calculates the impurity measure (Gini or Entropy) for the resulting subsets.    \n",
        "\n",
        "Information Gain Calculation: The Information Gain is computed for each feature, and the feature with the highest Information Gain is selected for the split.    \n",
        "\n",
        "Recursive Process: This process continues recursively for each resulting subset until a stopping criterion is met (e.g., maximum depth, minimum samples per leaf, or purity threshold).    \n",
        "\n",
        "Leaf Node Prediction: Once the stopping criterion is reached, the leaf node is assigned a class label based on the majority class of the instances in that node (for classification) or the mean value (for regression).    \n",
        "\n",
        "8. What is Pre-Pruning in Decision Trees?\n",
        "   \n",
        "\n",
        "Pre-Pruning, also known as early stopping, is a technique used to prevent overfitting in Decision Trees by halting the growth of the tree before it reaches its maximum depth. This is done by setting specific criteria that must be met for a split to occur. Common pre-pruning criteria include:    \n",
        "\n",
        "Maximum Depth: Limiting the maximum depth of the tree.\n",
        "Minimum Samples per Leaf: Requiring a minimum number of samples in a leaf node.\n",
        "Minimum Information Gain: Setting a threshold for the minimum information gain required for a split.    \n",
        "By applying pre-pruning, the model is less likely to capture noise in the training data, leading to better generalization on unseen data.    \n",
        "\n",
        "9. What is Post-Pruning in Decision Trees?\n",
        "   \n",
        "\n",
        "Post-Pruning is a technique applied after the Decision Tree has been fully grown. It involves removing nodes or branches that do not provide significant predictive power, thereby simplifying the model and reducing overfitting. The process typically involves:    \n",
        "\n",
        "Tree Growth: First, the tree is allowed to grow to its full depth, capturing all possible patterns in the training data.    \n",
        "\n",
        "Validation: The performance of the tree is evaluated on a validation set.    \n",
        "\n",
        "Pruning: Nodes or branches that do not improve the model's performance (or that decrease it) are removed. This can be done using techniques like cost-complexity pruning, where a penalty is applied for the number of leaves in the tree.    \n",
        "\n",
        "Post-pruning helps to create a more generalizable model by reducing complexity and improving performance on unseen data.    \n",
        "\n",
        "10. What is the difference between Pre-Pruning and Post-Pruning?\n",
        "   \n",
        "\n",
        "The main differences between Pre-Pruning and Post-Pruning are:    \n",
        "\n",
        "Timing:\n",
        "\n",
        "Pre-Pruning occurs during the tree-building process, where the growth of the tree is halted based on specific criteria.\n",
        "Post-Pruning occurs after the tree has been fully grown, where unnecessary nodes or branches are removed.    \n",
        "Complexity:\n",
        "\n",
        "Pre-Pruning aims to prevent the tree from becoming overly complex from the outset.\n",
        "Post-Pruning simplifies an already complex tree, potentially leading to a more accurate model.    \n",
        "Risk of Underfitting:\n",
        "\n",
        "Pre-Pruning may lead to underfitting if the stopping criteria are too strict, preventing the model from capturing important patterns.\n",
        "Post-Pruning allows the model to capture all patterns initially, reducing the risk of underfitting but requiring careful evaluation to avoid overfitting.    \n",
        "11. What is a Decision Tree Regressor?\n",
        "   \n",
        "\n",
        "A Decision Tree Regressor is a variant of Decision Trees used for regression tasks, where the goal is to predict continuous numerical values rather than categorical class labels. The working principle is similar to that of a classification tree, but instead of using impurity measures like Gini or entropy, it typically uses metrics like Mean Squared Error (MSE) to evaluate splits.    \n",
        "\n",
        "The Decision Tree Regressor works by:    \n",
        "\n",
        "Splitting: It recursively splits the dataset based on feature values to minimize the MSE in the resulting subsets.    \n",
        "\n",
        "Leaf Node Prediction: Each leaf node represents a predicted value, usually the mean of the target values of the instances that fall into that leaf.    \n",
        "\n",
        "Prediction: For a new instance, the regressor traverses the tree based on the feature values until it reaches a leaf node, where the predicted value is returned.    \n",
        "\n",
        "12. What are the advantages and disadvantages of Decision Trees?\n",
        "   \n",
        "\n",
        "Advantages:\n",
        "\n",
        "Interpretability: Decision Trees are easy to understand and interpret, as they visually represent decisions and their consequences.\n",
        "No Need for Feature Scaling: They do not require normalization or standardization of features.\n",
        "Handles Both Types of Data: Decision Trees can handle both numerical and categorical data without the need for extensive preprocessing.\n",
        "Non-Linear Relationships: They can capture non-linear relationships between features and the target variable.    \n",
        "Disadvantages:\n",
        "\n",
        "Overfitting: Decision Trees are prone to overfitting, especially when they are deep and complex.\n",
        "Instability: Small changes in the data can lead to different splits, resulting in a different tree structure.\n",
        "Bias Towards Dominant Classes: In imbalanced datasets, Decision Trees may favor the majority class.\n",
        "Limited Predictive Power: They may not perform as well as ensemble methods (e.g., Random Forests) that combine multiple trees.    \n",
        "13. How does a Decision Tree handle missing values?\n",
        "   \n",
        "\n",
        "Decision Trees can handle missing values in several ways:    \n",
        "\n",
        "Surrogate Splits: When a feature value is missing, the algorithm can use surrogate splits, which are alternative features that can be used to make a decision at that node. This allows the tree to continue making predictions even with missing data.    \n",
        "\n",
        "Imputation: Missing values can be imputed using techniques such as mean, median, or mode imputation before training the model. This fills in the missing values based on the distribution of the available data.    \n",
        "\n",
        "Separate Branch for Missing Values: Some implementations allow for creating a separate branch in the tree for instances with missing values, treating them as a distinct category.    \n",
        "\n",
        "Ignoring Missing Values: In some cases, the algorithm may simply ignore instances with missing values during the split calculations.    \n",
        "\n",
        "14. How does a Decision Tree handle categorical features?\n",
        "   \n",
        "\n",
        "Decision Trees can handle categorical features directly without the need for extensive preprocessing. The handling of categorical features typically involves:    \n",
        "\n",
        "Binary Splits: For binary categorical features, the tree can create two branches based on the presence or absence of the feature.    \n",
        "\n",
        "Multi-way Splits: For multi-class categorical features, the tree can create multiple branches, one for each category. The algorithm evaluates all possible splits based on the categories and selects the one that minimizes impurity.    \n",
        "\n",
        "One-Hot Encoding: While Decision Trees can handle categorical features directly, one-hot encoding can be used to convert categorical variables into binary features if desired. However, this is not always necessary.    \n",
        "\n",
        "15. What are some real-world applications of Decision Trees?\n",
        "   \n",
        "\n",
        "Decision Trees are widely used in various fields due to their interpretability and versatility. Some real-world applications include:    \n",
        "\n",
        "Healthcare: Predicting patient outcomes based on medical history and test results, such as diagnosing diseases or predicting treatment effectiveness.    \n",
        "\n",
        "Finance: Credit scoring and risk assessment, where Decision Trees help determine the likelihood of loan default based on applicant characteristics.    \n",
        "\n",
        "Marketing: Customer segmentation and targeting, where Decision Trees can identify customer profiles that are likely to respond to specific marketing campaigns.    \n",
        "\n",
        "Manufacturing: Quality control and defect detection, where Decision Trees can classify products based on features that indicate quality.    \n",
        "\n",
        "Fraud Detection: Identifying fraudulent transactions based on patterns in transaction data.    \n",
        "\n",
        "E-commerce: Recommender systems that suggest products to users based on their browsing and purchasing behavior.    \n",
        "\n",
        "Decision Trees are a powerful tool in machine learning, and their applications span a wide range of industries and domains.   "
      ],
      "metadata": {
        "id": "8HNiBVJ4BPX4"
      }
    },
    {
      "cell_type": "code",
      "source": [
        "#16. Write a Python program to train a Decision Tree Classifier on the Iris dataset and print the model accuracy*\n",
        "from sklearn.datasets import load_iris\n",
        "from sklearn.tree import DecisionTreeClassifier\n",
        "from sklearn.model_selection import train_test_split\n",
        "from sklearn.metrics import accuracy_score\n",
        "\n",
        "# Load dataset\n",
        "iris = load_iris()\n",
        "X, y = iris.data, iris.target\n",
        "\n",
        "# Split dataset\n",
        "X_train, X_test, y_train, y_test = train_test_split(X, y, test_size=0.2, random_state=42)\n",
        "\n",
        "# Train Decision Tree Classifier\n",
        "clf = DecisionTreeClassifier(random_state=42)\n",
        "clf.fit(X_train, y_train)\n",
        "\n",
        "# Predict and evaluate\n",
        "y_pred = clf.predict(X_test)\n",
        "print(\"Decision Tree Classifier Accuracy:\", accuracy_score(y_test, y_pred))\n"
      ],
      "metadata": {
        "colab": {
          "base_uri": "https://localhost:8080/"
        },
        "id": "6ExuWnH2B44Q",
        "outputId": "5bb27fd7-e4d4-4980-de73-2c6851b61892"
      },
      "execution_count": 1,
      "outputs": [
        {
          "output_type": "stream",
          "name": "stdout",
          "text": [
            "Decision Tree Classifier Accuracy: 1.0\n"
          ]
        }
      ]
    },
    {
      "cell_type": "code",
      "source": [
        "#17  Write a Python program to train a Decision Tree Classifier using Gini Impurity as the criterion and print the\n",
        "#feature importances\n",
        "from sklearn.tree import DecisionTreeClassifier\n",
        "\n",
        "# Gini is the default criterion\n",
        "clf_gini = DecisionTreeClassifier(criterion='gini', random_state=42)\n",
        "clf_gini.fit(X_train, y_train)\n",
        "\n",
        "# Print feature importances\n",
        "print(\"Feature Importances (Gini):\")\n",
        "for name, importance in zip(iris.feature_names, clf_gini.feature_importances_):\n",
        "    print(f\"{name}: {importance:.4f}\")\n"
      ],
      "metadata": {
        "colab": {
          "base_uri": "https://localhost:8080/"
        },
        "id": "op660TY0CO0K",
        "outputId": "28b2e471-9d62-4d3d-d08e-3ee3c0e600a2"
      },
      "execution_count": 2,
      "outputs": [
        {
          "output_type": "stream",
          "name": "stdout",
          "text": [
            "Feature Importances (Gini):\n",
            "sepal length (cm): 0.0000\n",
            "sepal width (cm): 0.0167\n",
            "petal length (cm): 0.9061\n",
            "petal width (cm): 0.0772\n"
          ]
        }
      ]
    },
    {
      "source": [
        "#18 Write a Python program to train a Decision Tree Classifier using Entropy as the splitting criterion and print the\n",
        "#model accuracy\n",
        "\n",
        "# Reload the Iris dataset and split it again to ensure correct target variable\n",
        "from sklearn.datasets import load_iris\n",
        "from sklearn.model_selection import train_test_split\n",
        "from sklearn.tree import DecisionTreeClassifier\n",
        "from sklearn.metrics import accuracy_score\n",
        "\n",
        "# Load dataset\n",
        "iris = load_iris()\n",
        "X, y = iris.data, iris.target\n",
        "\n",
        "# Split dataset\n",
        "X_train, X_test, y_train, y_test = train_test_split(X, y, test_size=0.2, random_state=42)\n",
        "\n",
        "# Train Decision Tree Classifier with Entropy criterion\n",
        "clf_entropy = DecisionTreeClassifier(criterion='entropy', random_state=42)\n",
        "clf_entropy.fit(X_train, y_train) # Now y_train should be the discrete Iris target\n",
        "\n",
        "# Predict and evaluate\n",
        "y_pred = clf_entropy.predict(X_test)\n",
        "print(\"3. Accuracy (Entropy):\", accuracy_score(y_test, y_pred))"
      ],
      "cell_type": "code",
      "metadata": {
        "colab": {
          "base_uri": "https://localhost:8080/"
        },
        "id": "TYrIDpL9FnwC",
        "outputId": "917c3cc5-d094-4e10-9bb4-cf1ae24dd334"
      },
      "execution_count": 8,
      "outputs": [
        {
          "output_type": "stream",
          "name": "stdout",
          "text": [
            "3. Accuracy (Entropy): 1.0\n"
          ]
        }
      ]
    },
    {
      "cell_type": "code",
      "source": [
        "#19  Write a Python program to train a Decision Tree Regressor on a housing dataset and evaluate using Mean\n",
        "#Squared Error (MSE)*\n",
        "from sklearn.datasets import fetch_california_housing\n",
        "from sklearn.tree import DecisionTreeRegressor\n",
        "from sklearn.metrics import mean_squared_error\n",
        "\n",
        "housing = fetch_california_housing()\n",
        "X, y = housing.data, housing.target\n",
        "X_train, X_test, y_train, y_test = train_test_split(X, y, random_state=42)\n",
        "\n",
        "reg = DecisionTreeRegressor()\n",
        "reg.fit(X_train, y_train)\n",
        "y_pred = reg.predict(X_test)\n",
        "print(\"4. MSE:\", mean_squared_error(y_test, y_pred))\n"
      ],
      "metadata": {
        "colab": {
          "base_uri": "https://localhost:8080/"
        },
        "id": "aRHNM_P8EB0z",
        "outputId": "a1eec223-b358-4416-bfe8-2b092ccb4115"
      },
      "execution_count": 6,
      "outputs": [
        {
          "output_type": "stream",
          "name": "stdout",
          "text": [
            "4. MSE: 0.5092767011477907\n"
          ]
        }
      ]
    },
    {
      "cell_type": "code",
      "source": [
        "#20  Write a Python program to train a Decision Tree Classifier and visualize the tree using graphviz*\n",
        "from sklearn.tree import export_graphviz\n",
        "import graphviz\n",
        "\n",
        "dot_data = export_graphviz(clf, out_file=None,\n",
        "                           feature_names=iris.feature_names,\n",
        "                           class_names=iris.target_names,\n",
        "                           filled=True, rounded=True)\n",
        "graph = graphviz.Source(dot_data)\n",
        "graph.render(\"iris_tree\")\n",
        "graph.view()\n"
      ],
      "metadata": {
        "colab": {
          "base_uri": "https://localhost:8080/",
          "height": 36
        },
        "id": "9QVm7o75Edq_",
        "outputId": "06a632cb-07fb-4821-a063-49aefe959bef"
      },
      "execution_count": 5,
      "outputs": [
        {
          "output_type": "execute_result",
          "data": {
            "text/plain": [
              "'iris_tree.pdf'"
            ],
            "application/vnd.google.colaboratory.intrinsic+json": {
              "type": "string"
            }
          },
          "metadata": {},
          "execution_count": 5
        }
      ]
    },
    {
      "cell_type": "code",
      "source": [
        "#21  Write a Python program to train a Decision Tree Classifier with a maximum depth of 3 and compare its\n",
        "#accuracy with a fully grown tree*\n",
        "clf_limited = DecisionTreeClassifier(max_depth=3, random_state=42)\n",
        "clf_limited.fit(X_train, y_train)\n",
        "print(\"6. Limited Tree Accuracy:\", accuracy_score(y_test, clf_limited.predict(X_test)))\n",
        "\n",
        "clf_full = DecisionTreeClassifier(random_state=42)\n",
        "clf_full.fit(X_train, y_train)\n",
        "print(\"   Full Tree Accuracy:\", accuracy_score(y_test, clf_full.predict(X_test)))\n"
      ],
      "metadata": {
        "colab": {
          "base_uri": "https://localhost:8080/"
        },
        "id": "PWbp5xiaF-vP",
        "outputId": "818127a9-849a-4b3f-a5e3-ec6dad1e4a4f"
      },
      "execution_count": 9,
      "outputs": [
        {
          "output_type": "stream",
          "name": "stdout",
          "text": [
            "6. Limited Tree Accuracy: 1.0\n",
            "   Full Tree Accuracy: 1.0\n"
          ]
        }
      ]
    },
    {
      "cell_type": "code",
      "source": [
        "#22. Write a Python program to train a Decision Tree Classifier using min_samples_split=5 and compare its\n",
        "#accuracy with a default tree\n",
        "clf_min_split = DecisionTreeClassifier(min_samples_split=5, random_state=42)\n",
        "clf_min_split.fit(X_train, y_train)\n",
        "print(\"7. Accuracy (min_samples_split=5):\", accuracy_score(y_test, clf_min_split.predict(X_test)))\n",
        "\n",
        "clf_default = DecisionTreeClassifier(random_state=42)\n",
        "clf_default.fit(X_train, y_train)\n",
        "print(\"   Accuracy (default split):\", accuracy_score(y_test, clf_default.predict(X_test)))\n"
      ],
      "metadata": {
        "colab": {
          "base_uri": "https://localhost:8080/"
        },
        "id": "Ux-NYqytGji8",
        "outputId": "48a93003-faae-4fbc-82e2-54ab52712178"
      },
      "execution_count": 10,
      "outputs": [
        {
          "output_type": "stream",
          "name": "stdout",
          "text": [
            "7. Accuracy (min_samples_split=5): 1.0\n",
            "   Accuracy (default split): 1.0\n"
          ]
        }
      ]
    },
    {
      "cell_type": "code",
      "source": [
        "#23 Write a Python program to apply feature scaling before training a Decision Tree Classifier and compare its\n",
        "#accuracy with unscaled data\n",
        "from sklearn.preprocessing import StandardScaler\n",
        "\n",
        "scaler = StandardScaler()\n",
        "X_train_scaled = scaler.fit_transform(X_train)\n",
        "X_test_scaled = scaler.transform(X_test)\n",
        "\n",
        "clf_scaled = DecisionTreeClassifier(random_state=42)\n",
        "clf_scaled.fit(X_train_scaled, y_train)\n",
        "\n",
        "acc_scaled = accuracy_score(y_test, clf_scaled.predict(X_test_scaled))\n",
        "acc_unscaled = accuracy_score(y_test, clf.predict(X_test))\n",
        "\n",
        "print(\"8. Accuracy with Scaling:\", acc_scaled)\n",
        "print(\"   Accuracy without Scaling:\", acc_unscaled)\n"
      ],
      "metadata": {
        "colab": {
          "base_uri": "https://localhost:8080/"
        },
        "id": "_v_6YsLeG7lR",
        "outputId": "f6a4fbb6-b95c-480e-f07b-93934c4aaa2a"
      },
      "execution_count": 12,
      "outputs": [
        {
          "output_type": "stream",
          "name": "stdout",
          "text": [
            "8. Accuracy with Scaling: 1.0\n",
            "   Accuracy without Scaling: 1.0\n"
          ]
        }
      ]
    },
    {
      "cell_type": "code",
      "source": [
        "#24  Write a Python program to train a Decision Tree Classifier using One-vs-Rest (OvR) strategy for multiclass\n",
        "#classification\n",
        "from sklearn.multiclass import OneVsRestClassifier\n",
        "\n",
        "ovr_clf = OneVsRestClassifier(DecisionTreeClassifier(random_state=42))\n",
        "ovr_clf.fit(X_train, y_train)\n",
        "print(\"9. OvR Accuracy:\", accuracy_score(y_test, ovr_clf.predict(X_test)))\n"
      ],
      "metadata": {
        "colab": {
          "base_uri": "https://localhost:8080/"
        },
        "id": "QX9ajZwZHN-i",
        "outputId": "479ed87c-dcbd-4498-a436-ceba8b177cb3"
      },
      "execution_count": 13,
      "outputs": [
        {
          "output_type": "stream",
          "name": "stdout",
          "text": [
            "9. OvR Accuracy: 1.0\n"
          ]
        }
      ]
    },
    {
      "cell_type": "code",
      "source": [
        "#25 Write a Python program to train a Decision Tree Classifier and display the feature importance scores*\n",
        "importances = clf.feature_importances_\n",
        "print(\"10. Feature Importances:\")\n",
        "for name, imp in zip(iris.feature_names, importances):\n",
        "    print(f\"{name}: {imp:.4f}\")\n"
      ],
      "metadata": {
        "colab": {
          "base_uri": "https://localhost:8080/"
        },
        "id": "jAjfrVBYHjeM",
        "outputId": "b55118b1-e683-445d-c1ae-a643149afa71"
      },
      "execution_count": 14,
      "outputs": [
        {
          "output_type": "stream",
          "name": "stdout",
          "text": [
            "10. Feature Importances:\n",
            "sepal length (cm): 0.0000\n",
            "sepal width (cm): 0.0167\n",
            "petal length (cm): 0.9061\n",
            "petal width (cm): 0.0772\n"
          ]
        }
      ]
    },
    {
      "cell_type": "code",
      "source": [
        "#26  Write a Python program to train a Decision Tree Regressor with max_depth=5 and compare its performance\n",
        "#with an unrestricted tree\n",
        "reg_limited = DecisionTreeRegressor(max_depth=5)\n",
        "reg_limited.fit(X_train, y_train)\n",
        "mse_limited = mean_squared_error(y_test, reg_limited.predict(X_test))\n",
        "\n",
        "reg_full = DecisionTreeRegressor()\n",
        "reg_full.fit(X_train, y_train)\n",
        "mse_full = mean_squared_error(y_test, reg_full.predict(X_test))\n",
        "\n",
        "print(\"11. MSE (max_depth=5):\", mse_limited)\n",
        "print(\"    MSE (full):\", mse_full)\n"
      ],
      "metadata": {
        "colab": {
          "base_uri": "https://localhost:8080/"
        },
        "id": "jSpiZJBmH1ny",
        "outputId": "645216e5-272e-4beb-bf72-ba27541e6bdc"
      },
      "execution_count": 15,
      "outputs": [
        {
          "output_type": "stream",
          "name": "stdout",
          "text": [
            "11. MSE (max_depth=5): 0.0\n",
            "    MSE (full): 0.0\n"
          ]
        }
      ]
    },
    {
      "source": [
        "#27  Write a Python program to train a Decision Tree Classifier, apply Cost Complexity Pruning (CCP), and\n",
        "#visualize its effect on accuracy\n",
        "from sklearn.tree import DecisionTreeClassifier\n",
        "from sklearn.metrics import accuracy_score\n",
        "from sklearn.model_selection import train_test_split\n",
        "from sklearn.datasets import load_iris\n",
        "import matplotlib.pyplot as plt # Import matplotlib.pyplot\n",
        "\n",
        "# It seems the Iris dataset and split were not reloaded in this cell,\n",
        "# so we will reload them to ensure they are available.\n",
        "iris = load_iris()\n",
        "X, y = iris.data, iris.target\n",
        "X_train, X_test, y_train, y_test = train_test_split(X, y, test_size=0.2, random_state=42)\n",
        "\n",
        "# Re-train the initial clf if needed, though it should be available from previous cells\n",
        "# If running this cell independently, you would need to train clf here.\n",
        "# For this fix, assuming clf is available from previous execution.\n",
        "clf = DecisionTreeClassifier(random_state=42)\n",
        "clf.fit(X_train, y_train)\n",
        "\n",
        "path = clf.cost_complexity_pruning_path(X_train, y_train)\n",
        "ccp_alphas = path.ccp_alphas[:-1]  # skip last (trivial) alpha\n",
        "\n",
        "accuracies = []\n",
        "for ccp_alpha in ccp_alphas:\n",
        "    clf_pruned = DecisionTreeClassifier(random_state=42, ccp_alpha=ccp_alpha)\n",
        "    clf_pruned.fit(X_train, y_train)\n",
        "    acc = accuracy_score(y_test, clf_pruned.predict(X_test))\n",
        "    accuracies.append(acc)\n",
        "\n",
        "plt.plot(ccp_alphas, accuracies, marker='o')\n",
        "plt.title(\"12. Accuracy vs CCP Alpha\")\n",
        "plt.xlabel(\"ccp_alpha\")\n",
        "plt.ylabel(\"Accuracy\")\n",
        "plt.grid()\n",
        "plt.show()"
      ],
      "cell_type": "code",
      "metadata": {
        "colab": {
          "base_uri": "https://localhost:8080/",
          "height": 472
        },
        "id": "256dJioEIz0I",
        "outputId": "17c641d1-f9d0-456a-e2fd-d977b7f8c99c"
      },
      "execution_count": 17,
      "outputs": [
        {
          "output_type": "display_data",
          "data": {
            "text/plain": [
              "<Figure size 640x480 with 1 Axes>"
            ],
            "image/png": "[encoded data removed]"
          },
          "metadata": {}
        }
      ]
    },
    {
      "cell_type": "code",
      "source": [
        "#28 Write a Python program to train a Decision Tree Classifier and evaluate its performance using Precision,\n",
        "#Recall, and F1-Score*\n",
        "from sklearn.metrics import precision_score, recall_score, f1_score\n",
        "\n",
        "y_pred = clf.predict(X_test)\n",
        "print(\"13. Precision:\", precision_score(y_test, y_pred, average='macro'))\n",
        "print(\"    Recall:\", recall_score(y_test, y_pred, average='macro'))\n",
        "print(\"    F1 Score:\", f1_score(y_test, y_pred, average='macro'))\n"
      ],
      "metadata": {
        "colab": {
          "base_uri": "https://localhost:8080/"
        },
        "id": "3PEFfCWWI40g",
        "outputId": "8ed8b355-69d0-4b88-a098-a45ea6e1274a"
      },
      "execution_count": 18,
      "outputs": [
        {
          "output_type": "stream",
          "name": "stdout",
          "text": [
            "13. Precision: 1.0\n",
            "    Recall: 1.0\n",
            "    F1 Score: 1.0\n"
          ]
        }
      ]
    },
    {
      "cell_type": "code",
      "source": [
        "#29  Write a Python program to train a Decision Tree Classifier and visualize the confusion matrix using seaborn*\n",
        "from sklearn.metrics import confusion_matrix\n",
        "import seaborn as sns\n",
        "import matplotlib.pyplot as plt\n",
        "\n",
        "cm = confusion_matrix(y_test, y_pred)\n",
        "sns.heatmap(cm, annot=True, cmap='Blues', xticklabels=iris.target_names, yticklabels=iris.target_names)\n",
        "plt.title(\"14. Confusion Matrix\")\n",
        "plt.xlabel(\"Predicted\")\n",
        "plt.ylabel(\"Actual\")\n",
        "plt.show()\n"
      ],
      "metadata": {
        "colab": {
          "base_uri": "https://localhost:8080/",
          "height": 472
        },
        "id": "7oL4YfvsJH7V",
        "outputId": "9c8cbedd-3881-46eb-df2a-a18a4819131f"
      },
      "execution_count": 19,
      "outputs": [
        {
          "output_type": "display_data",
          "data": {
            "text/plain": [
              "<Figure size 640x480 with 2 Axes>"
            ],
            "image/png": "[encoded data removed]"
          },
          "metadata": {}
        }
      ]
    },
    {
      "cell_type": "code",
      "source": [
        "#30  Write a Python program to train a Decision Tree Classifier and use GridSearchCV to find the optimal values\n",
        "#for max_depth and min_samples_split.\n",
        "from sklearn.model_selection import GridSearchCV\n",
        "\n",
        "param_grid = {\n",
        "    'max_depth': [2, 3, 4, 5, None],\n",
        "    'min_samples_split': [2, 5, 10]\n",
        "}\n",
        "\n",
        "grid = GridSearchCV(DecisionTreeClassifier(random_state=42), param_grid, cv=5)\n",
        "grid.fit(X_train, y_train)\n",
        "\n",
        "print(\"15. Best Parameters:\", grid.best_params_)\n",
        "print(\"    Best Accuracy:\", grid.best_score_)\n"
      ],
      "metadata": {
        "colab": {
          "base_uri": "https://localhost:8080/"
        },
        "id": "O2nArsf7JRki",
        "outputId": "1b1a3cf5-d9d3-4763-d290-07b56ee44064"
      },
      "execution_count": 20,
      "outputs": [
        {
          "output_type": "stream",
          "name": "stdout",
          "text": [
            "15. Best Parameters: {'max_depth': 4, 'min_samples_split': 2}\n",
            "    Best Accuracy: 0.9416666666666668\n"
          ]
        }
      ]
    }
  ]
}